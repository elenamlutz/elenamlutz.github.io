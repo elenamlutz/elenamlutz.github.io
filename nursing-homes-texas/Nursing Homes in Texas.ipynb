{
 "cells": [
  {
   "cell_type": "code",
   "execution_count": 2,
   "metadata": {},
   "outputs": [],
   "source": [
    "import pandas as pd\n",
    "import requests\n",
    "import re\n",
    "from bs4 import BeautifulSoup\n",
    "import numpy as np\n",
    "import matplotlib\n",
    "import matplotlib.pyplot as plt\n",
    "import seaborn as sns\n",
    "matplotlib.rcParams['pdf.fonttype'] = 42\n",
    "\n",
    "%matplotlib inline"
   ]
  },
  {
   "cell_type": "code",
   "execution_count": null,
   "metadata": {},
   "outputs": [],
   "source": []
  },
  {
   "cell_type": "code",
   "execution_count": 3,
   "metadata": {},
   "outputs": [],
   "source": [
    "#     * Bar graph: Top facilities with most complaints\n",
    "#     * Bar graph: Top facilities with most fines\n",
    "#     * Bar graph: Fines per year before and after Trump\n",
    "#     * Scatter plot \n",
    "#     * Map cities with most deficiencies QGIS"
   ]
  },
  {
   "cell_type": "code",
   "execution_count": 4,
   "metadata": {},
   "outputs": [
    {
     "name": "stdout",
     "output_type": "stream",
     "text": [
      "Barak_Obama_web-resized.jpg         map.pdf\r\n",
      "Layout 1.svg                        nursing homes penalties.csv\r\n",
      "Nursing Homes in Texas.ipynb        nursinghomes1.pdf\r\n",
      "\u001b[34mTexas_State_Boundary (1)\u001b[m\u001b[m            nursinghomes2.pdf\r\n",
      "csvforgeocodio.csv                  nursinghomes3.pdf\r\n",
      "deficienciescount.csv               nursinghomes4.pdf\r\n",
      "deficienciescount1.csv              nursinghomes5.pdf\r\n",
      "deficienciesmap.qgz                 penaltiestest.xlsx\r\n",
      "deficiencypercity.csv               scatterplot.pdf\r\n",
      "deficiencypercity.xlsx              trumpface.png\r\n",
      "inspection reports per facility.csv\r\n"
     ]
    }
   ],
   "source": [
    "!ls"
   ]
  },
  {
   "cell_type": "code",
   "execution_count": 5,
   "metadata": {},
   "outputs": [],
   "source": [
    "df2 = pd.read_csv(\"inspection reports per facility.csv\")"
   ]
  },
  {
   "cell_type": "markdown",
   "metadata": {},
   "source": [
    "# Filter Texas Deficiencies"
   ]
  },
  {
   "cell_type": "code",
   "execution_count": 6,
   "metadata": {
    "scrolled": true
   },
   "outputs": [],
   "source": [
    "texas_deficiencies = df2[(df2['state'] == 'TX')]"
   ]
  },
  {
   "cell_type": "code",
   "execution_count": 7,
   "metadata": {},
   "outputs": [
    {
     "data": {
      "text/plain": [
       "(26840, 13)"
      ]
     },
     "execution_count": 7,
     "metadata": {},
     "output_type": "execute_result"
    }
   ],
   "source": [
    "texas_deficiencies.shape"
   ]
  },
  {
   "cell_type": "code",
   "execution_count": 8,
   "metadata": {},
   "outputs": [
    {
     "data": {
      "text/html": [
       "<div>\n",
       "<style scoped>\n",
       "    .dataframe tbody tr th:only-of-type {\n",
       "        vertical-align: middle;\n",
       "    }\n",
       "\n",
       "    .dataframe tbody tr th {\n",
       "        vertical-align: top;\n",
       "    }\n",
       "\n",
       "    .dataframe thead th {\n",
       "        text-align: right;\n",
       "    }\n",
       "</style>\n",
       "<table border=\"1\" class=\"dataframe\">\n",
       "  <thead>\n",
       "    <tr style=\"text-align: right;\">\n",
       "      <th></th>\n",
       "      <th>facility_name</th>\n",
       "      <th>facility_id</th>\n",
       "      <th>address</th>\n",
       "      <th>city</th>\n",
       "      <th>state</th>\n",
       "      <th>zip</th>\n",
       "      <th>inspection_date</th>\n",
       "      <th>deficiency_tag</th>\n",
       "      <th>scope_severity</th>\n",
       "      <th>complaint</th>\n",
       "      <th>standard</th>\n",
       "      <th>eventid</th>\n",
       "      <th>inspection_text</th>\n",
       "    </tr>\n",
       "  </thead>\n",
       "  <tbody>\n",
       "    <tr>\n",
       "      <th>17739</th>\n",
       "      <td>PHP THE OAKS AT BEAUMONT</td>\n",
       "      <td>455001</td>\n",
       "      <td>4195 MILAM ST</td>\n",
       "      <td>BEAUMONT</td>\n",
       "      <td>TX</td>\n",
       "      <td>77707</td>\n",
       "      <td>12/08/2016</td>\n",
       "      <td>441</td>\n",
       "      <td>E</td>\n",
       "      <td>1</td>\n",
       "      <td>0</td>\n",
       "      <td>51U811</td>\n",
       "      <td>&gt;&lt;BR/&gt;Based on observation, interview, and rec...</td>\n",
       "    </tr>\n",
       "    <tr>\n",
       "      <th>17740</th>\n",
       "      <td>PHP THE OAKS AT BEAUMONT</td>\n",
       "      <td>455001</td>\n",
       "      <td>4195 MILAM ST</td>\n",
       "      <td>BEAUMONT</td>\n",
       "      <td>TX</td>\n",
       "      <td>77707</td>\n",
       "      <td>12/08/2016</td>\n",
       "      <td>498</td>\n",
       "      <td>E</td>\n",
       "      <td>1</td>\n",
       "      <td>0</td>\n",
       "      <td>51U811</td>\n",
       "      <td>**NOTE- TERMS IN BRACKETS HAVE BEEN EDITED TO ...</td>\n",
       "    </tr>\n",
       "    <tr>\n",
       "      <th>17741</th>\n",
       "      <td>PHP THE OAKS AT BEAUMONT</td>\n",
       "      <td>455001</td>\n",
       "      <td>4195 MILAM ST</td>\n",
       "      <td>BEAUMONT</td>\n",
       "      <td>TX</td>\n",
       "      <td>77707</td>\n",
       "      <td>04/26/2017</td>\n",
       "      <td>224</td>\n",
       "      <td>E</td>\n",
       "      <td>1</td>\n",
       "      <td>1</td>\n",
       "      <td>DHMS11</td>\n",
       "      <td>**NOTE- TERMS IN BRACKETS HAVE BEEN EDITED TO ...</td>\n",
       "    </tr>\n",
       "    <tr>\n",
       "      <th>17742</th>\n",
       "      <td>PHP THE OAKS AT BEAUMONT</td>\n",
       "      <td>455001</td>\n",
       "      <td>4195 MILAM ST</td>\n",
       "      <td>BEAUMONT</td>\n",
       "      <td>TX</td>\n",
       "      <td>77707</td>\n",
       "      <td>04/26/2017</td>\n",
       "      <td>226</td>\n",
       "      <td>E</td>\n",
       "      <td>1</td>\n",
       "      <td>1</td>\n",
       "      <td>DHMS11</td>\n",
       "      <td>**NOTE- TERMS IN BRACKETS HAVE BEEN EDITED TO ...</td>\n",
       "    </tr>\n",
       "    <tr>\n",
       "      <th>17743</th>\n",
       "      <td>PHP THE OAKS AT BEAUMONT</td>\n",
       "      <td>455001</td>\n",
       "      <td>4195 MILAM ST</td>\n",
       "      <td>BEAUMONT</td>\n",
       "      <td>TX</td>\n",
       "      <td>77707</td>\n",
       "      <td>04/26/2017</td>\n",
       "      <td>248</td>\n",
       "      <td>E</td>\n",
       "      <td>0</td>\n",
       "      <td>1</td>\n",
       "      <td>DHMS11</td>\n",
       "      <td>**NOTE- TERMS IN BRACKETS HAVE BEEN EDITED TO ...</td>\n",
       "    </tr>\n",
       "  </tbody>\n",
       "</table>\n",
       "</div>"
      ],
      "text/plain": [
       "                  facility_name facility_id        address      city state  \\\n",
       "17739  PHP THE OAKS AT BEAUMONT      455001  4195 MILAM ST  BEAUMONT    TX   \n",
       "17740  PHP THE OAKS AT BEAUMONT      455001  4195 MILAM ST  BEAUMONT    TX   \n",
       "17741  PHP THE OAKS AT BEAUMONT      455001  4195 MILAM ST  BEAUMONT    TX   \n",
       "17742  PHP THE OAKS AT BEAUMONT      455001  4195 MILAM ST  BEAUMONT    TX   \n",
       "17743  PHP THE OAKS AT BEAUMONT      455001  4195 MILAM ST  BEAUMONT    TX   \n",
       "\n",
       "         zip inspection_date  deficiency_tag scope_severity  complaint  \\\n",
       "17739  77707      12/08/2016             441              E          1   \n",
       "17740  77707      12/08/2016             498              E          1   \n",
       "17741  77707      04/26/2017             224              E          1   \n",
       "17742  77707      04/26/2017             226              E          1   \n",
       "17743  77707      04/26/2017             248              E          0   \n",
       "\n",
       "       standard eventid                                    inspection_text  \n",
       "17739         0  51U811  ><BR/>Based on observation, interview, and rec...  \n",
       "17740         0  51U811  **NOTE- TERMS IN BRACKETS HAVE BEEN EDITED TO ...  \n",
       "17741         1  DHMS11  **NOTE- TERMS IN BRACKETS HAVE BEEN EDITED TO ...  \n",
       "17742         1  DHMS11  **NOTE- TERMS IN BRACKETS HAVE BEEN EDITED TO ...  \n",
       "17743         1  DHMS11  **NOTE- TERMS IN BRACKETS HAVE BEEN EDITED TO ...  "
      ]
     },
     "execution_count": 8,
     "metadata": {},
     "output_type": "execute_result"
    }
   ],
   "source": [
    "texas_deficiencies.head()"
   ]
  },
  {
   "cell_type": "code",
   "execution_count": 9,
   "metadata": {},
   "outputs": [],
   "source": [
    "deficiency_count = texas_deficiencies.pivot_table(columns=['scope_severity'],\n",
    "                               index=['facility_name'],\n",
    "                               aggfunc='count', fill_value=0)"
   ]
  },
  {
   "cell_type": "code",
   "execution_count": 10,
   "metadata": {},
   "outputs": [],
   "source": [
    "deficiency_count = deficiency_count.drop(['address',\n",
    "                                          'city',\n",
    "                                          'state',\n",
    "                                          'zip',\n",
    "                                          'inspection_date',\n",
    "                                          'deficiency_tag',\n",
    "                                          'complaint', \n",
    "                                          'standard', \n",
    "                                          'inspection_text', \n",
    "                                          'inspection_date',\n",
    "                                          'eventid'], axis=1)"
   ]
  },
  {
   "cell_type": "code",
   "execution_count": 11,
   "metadata": {},
   "outputs": [
    {
     "data": {
      "text/html": [
       "<div>\n",
       "<style scoped>\n",
       "    .dataframe tbody tr th:only-of-type {\n",
       "        vertical-align: middle;\n",
       "    }\n",
       "\n",
       "    .dataframe tbody tr th {\n",
       "        vertical-align: top;\n",
       "    }\n",
       "\n",
       "    .dataframe thead tr th {\n",
       "        text-align: left;\n",
       "    }\n",
       "\n",
       "    .dataframe thead tr:last-of-type th {\n",
       "        text-align: right;\n",
       "    }\n",
       "</style>\n",
       "<table border=\"1\" class=\"dataframe\">\n",
       "  <thead>\n",
       "    <tr>\n",
       "      <th></th>\n",
       "      <th colspan=\"11\" halign=\"left\">facility_id</th>\n",
       "    </tr>\n",
       "    <tr>\n",
       "      <th>scope_severity</th>\n",
       "      <th>B</th>\n",
       "      <th>C</th>\n",
       "      <th>D</th>\n",
       "      <th>E</th>\n",
       "      <th>F</th>\n",
       "      <th>G</th>\n",
       "      <th>H</th>\n",
       "      <th>I</th>\n",
       "      <th>J</th>\n",
       "      <th>K</th>\n",
       "      <th>L</th>\n",
       "    </tr>\n",
       "    <tr>\n",
       "      <th>facility_name</th>\n",
       "      <th></th>\n",
       "      <th></th>\n",
       "      <th></th>\n",
       "      <th></th>\n",
       "      <th></th>\n",
       "      <th></th>\n",
       "      <th></th>\n",
       "      <th></th>\n",
       "      <th></th>\n",
       "      <th></th>\n",
       "      <th></th>\n",
       "    </tr>\n",
       "  </thead>\n",
       "  <tbody>\n",
       "    <tr>\n",
       "      <th>ACCEL AT COLLEGE STATION</th>\n",
       "      <td>0</td>\n",
       "      <td>0</td>\n",
       "      <td>1</td>\n",
       "      <td>1</td>\n",
       "      <td>1</td>\n",
       "      <td>0</td>\n",
       "      <td>0</td>\n",
       "      <td>0</td>\n",
       "      <td>0</td>\n",
       "      <td>0</td>\n",
       "      <td>0</td>\n",
       "    </tr>\n",
       "    <tr>\n",
       "      <th>ACCEL AT WILLOW BEND</th>\n",
       "      <td>0</td>\n",
       "      <td>0</td>\n",
       "      <td>6</td>\n",
       "      <td>6</td>\n",
       "      <td>8</td>\n",
       "      <td>2</td>\n",
       "      <td>0</td>\n",
       "      <td>0</td>\n",
       "      <td>0</td>\n",
       "      <td>0</td>\n",
       "      <td>0</td>\n",
       "    </tr>\n",
       "    <tr>\n",
       "      <th>ADVANCED HEALTH &amp; REHAB CENTER OF GARLAND</th>\n",
       "      <td>0</td>\n",
       "      <td>0</td>\n",
       "      <td>4</td>\n",
       "      <td>13</td>\n",
       "      <td>4</td>\n",
       "      <td>0</td>\n",
       "      <td>0</td>\n",
       "      <td>0</td>\n",
       "      <td>0</td>\n",
       "      <td>0</td>\n",
       "      <td>0</td>\n",
       "    </tr>\n",
       "    <tr>\n",
       "      <th>ADVANCED REHABILITATION &amp; HEALTHCARE OF LIVE OAK</th>\n",
       "      <td>0</td>\n",
       "      <td>1</td>\n",
       "      <td>2</td>\n",
       "      <td>39</td>\n",
       "      <td>3</td>\n",
       "      <td>0</td>\n",
       "      <td>0</td>\n",
       "      <td>0</td>\n",
       "      <td>0</td>\n",
       "      <td>0</td>\n",
       "      <td>0</td>\n",
       "    </tr>\n",
       "    <tr>\n",
       "      <th>ADVANCED REHABILITATION AND HEALTHCARE OF BOWIE</th>\n",
       "      <td>0</td>\n",
       "      <td>1</td>\n",
       "      <td>0</td>\n",
       "      <td>10</td>\n",
       "      <td>3</td>\n",
       "      <td>0</td>\n",
       "      <td>0</td>\n",
       "      <td>0</td>\n",
       "      <td>0</td>\n",
       "      <td>0</td>\n",
       "      <td>0</td>\n",
       "    </tr>\n",
       "  </tbody>\n",
       "</table>\n",
       "</div>"
      ],
      "text/plain": [
       "                                                 facility_id                  \\\n",
       "scope_severity                                             B  C  D   E  F  G   \n",
       "facility_name                                                                  \n",
       "ACCEL AT COLLEGE STATION                                   0  0  1   1  1  0   \n",
       "ACCEL AT WILLOW BEND                                       0  0  6   6  8  2   \n",
       "ADVANCED HEALTH & REHAB CENTER OF GARLAND                  0  0  4  13  4  0   \n",
       "ADVANCED REHABILITATION & HEALTHCARE OF LIVE OAK           0  1  2  39  3  0   \n",
       "ADVANCED REHABILITATION AND HEALTHCARE OF BOWIE            0  1  0  10  3  0   \n",
       "\n",
       "                                                                 \n",
       "scope_severity                                    H  I  J  K  L  \n",
       "facility_name                                                    \n",
       "ACCEL AT COLLEGE STATION                          0  0  0  0  0  \n",
       "ACCEL AT WILLOW BEND                              0  0  0  0  0  \n",
       "ADVANCED HEALTH & REHAB CENTER OF GARLAND         0  0  0  0  0  \n",
       "ADVANCED REHABILITATION & HEALTHCARE OF LIVE OAK  0  0  0  0  0  \n",
       "ADVANCED REHABILITATION AND HEALTHCARE OF BOWIE   0  0  0  0  0  "
      ]
     },
     "execution_count": 11,
     "metadata": {},
     "output_type": "execute_result"
    }
   ],
   "source": [
    "deficiency_count.head()"
   ]
  },
  {
   "cell_type": "markdown",
   "metadata": {},
   "source": [
    "# Find facilities with most serious deficiencies"
   ]
  },
  {
   "cell_type": "code",
   "execution_count": 12,
   "metadata": {},
   "outputs": [],
   "source": [
    "deficiency_count = deficiency_count['facility_id'].astype(str)"
   ]
  },
  {
   "cell_type": "code",
   "execution_count": 13,
   "metadata": {},
   "outputs": [],
   "source": [
    "serious_deficiencies = deficiency_count.drop(['B', 'C', 'D', 'E', 'F', 'G', 'H', 'I'], axis=1)"
   ]
  },
  {
   "cell_type": "code",
   "execution_count": 14,
   "metadata": {},
   "outputs": [],
   "source": [
    "serious_deficiencies['K'] = serious_deficiencies['K'].astype(int)"
   ]
  },
  {
   "cell_type": "code",
   "execution_count": 15,
   "metadata": {},
   "outputs": [],
   "source": [
    "serious_deficiencies['J'] = serious_deficiencies['J'].astype(int)"
   ]
  },
  {
   "cell_type": "code",
   "execution_count": 16,
   "metadata": {},
   "outputs": [],
   "source": [
    "serious_deficiencies['L'] = serious_deficiencies['L'].astype(int)"
   ]
  },
  {
   "cell_type": "code",
   "execution_count": 17,
   "metadata": {},
   "outputs": [],
   "source": [
    "serious_deficiencies['sum'] = serious_deficiencies['J'] + serious_deficiencies['K'] + serious_deficiencies['L']"
   ]
  },
  {
   "cell_type": "code",
   "execution_count": 18,
   "metadata": {},
   "outputs": [],
   "source": [
    "most_deficiencies = serious_deficiencies[(serious_deficiencies['sum'] > 7)].sort_values(by='sum', ascending=False)"
   ]
  },
  {
   "cell_type": "code",
   "execution_count": 19,
   "metadata": {},
   "outputs": [],
   "source": [
    "most_deficiencies = most_deficiencies.reset_index()"
   ]
  },
  {
   "cell_type": "code",
   "execution_count": 20,
   "metadata": {},
   "outputs": [
    {
     "data": {
      "image/png": "[encoded data removed]",
      "text/plain": [
       "<Figure size 432x360 with 1 Axes>"
      ]
     },
     "metadata": {
      "needs_background": "light"
     },
     "output_type": "display_data"
    }
   ],
   "source": [
    "most_deficiencies.sort_values(by='sum').plot(x='facility_name', \n",
    "                                             y=['J', 'K', 'L'], \n",
    "                                             kind='barh',\n",
    "                                             figsize=(6, 5),\n",
    "                                             width=0.7,\n",
    "                                             stacked=True, \n",
    "                                             title='')\n",
    "plt.savefig('nursinghomes1.pdf')\n",
    "\n"
   ]
  },
  {
   "cell_type": "code",
   "execution_count": 21,
   "metadata": {},
   "outputs": [
    {
     "name": "stdout",
     "output_type": "stream",
     "text": [
      "Barak_Obama_web-resized.jpg         map.pdf\r\n",
      "Layout 1.svg                        nursing homes penalties.csv\r\n",
      "Nursing Homes in Texas.ipynb        nursinghomes1.pdf\r\n",
      "\u001b[34mTexas_State_Boundary (1)\u001b[m\u001b[m            nursinghomes2.pdf\r\n",
      "csvforgeocodio.csv                  nursinghomes3.pdf\r\n",
      "deficienciescount.csv               nursinghomes4.pdf\r\n",
      "deficienciescount1.csv              nursinghomes5.pdf\r\n",
      "deficienciesmap.qgz                 penaltiestest.xlsx\r\n",
      "deficiencypercity.csv               scatterplot.pdf\r\n",
      "deficiencypercity.xlsx              trumpface.png\r\n",
      "inspection reports per facility.csv\r\n"
     ]
    }
   ],
   "source": [
    "!ls"
   ]
  },
  {
   "cell_type": "markdown",
   "metadata": {},
   "source": [
    "# Find total number of fines before and after Trump"
   ]
  },
  {
   "cell_type": "code",
   "execution_count": 22,
   "metadata": {},
   "outputs": [],
   "source": [
    "texas_fines = pd.read_csv(\"nursing homes penalties.csv\")"
   ]
  },
  {
   "cell_type": "code",
   "execution_count": 23,
   "metadata": {},
   "outputs": [
    {
     "data": {
      "text/plain": [
       "provnum         int64\n",
       "provname       object\n",
       "address        object\n",
       "city           object\n",
       "zip             int64\n",
       "pnlty_date     object\n",
       "pnlty_type     object\n",
       "fine_amt       object\n",
       "Unnamed: 8    float64\n",
       "Unnamed: 9    float64\n",
       "dtype: object"
      ]
     },
     "execution_count": 23,
     "metadata": {},
     "output_type": "execute_result"
    }
   ],
   "source": [
    "texas_fines.dtypes"
   ]
  },
  {
   "cell_type": "markdown",
   "metadata": {},
   "source": [
    "## Drop the outlier from 2017 Q4"
   ]
  },
  {
   "cell_type": "code",
   "execution_count": 33,
   "metadata": {},
   "outputs": [],
   "source": [
    "# texas_fines.loc[texas_fines['fine_amt'] == '1,254,213']\n",
    "texas_fines = texas_fines.drop([894])"
   ]
  },
  {
   "cell_type": "code",
   "execution_count": 34,
   "metadata": {},
   "outputs": [],
   "source": [
    "df = pd.DataFrame(columns=['2014 Q1', '2014 Q2', '2014 Q3', '2014 Q4', \n",
    "                           '2015 Q1', '2015 Q2', '2015 Q3', '2015 Q4',\n",
    "                           '2016 Q1', '2016 Q2', '2016 Q3', '2016 Q4',\n",
    "                           '2017 Q1', '2017 Q2', '2017 Q3', '2017 Q4',\n",
    "                           '2018 Q1', '2018 Q2', '2018 Q3', '2018 Q4',], index=['0'])"
   ]
  },
  {
   "cell_type": "code",
   "execution_count": 35,
   "metadata": {},
   "outputs": [],
   "source": [
    "texas_fines['fine_amt'] = texas_fines['fine_amt'].str.replace(',', '', regex=True)"
   ]
  },
  {
   "cell_type": "code",
   "execution_count": 36,
   "metadata": {},
   "outputs": [],
   "source": [
    "texas_fines['fine_amt'] = texas_fines['fine_amt'].astype(int)"
   ]
  },
  {
   "cell_type": "code",
   "execution_count": 37,
   "metadata": {},
   "outputs": [],
   "source": [
    "df['2014 Q1'] =texas_fines[(texas_fines['pnlty_date'].str.contains('^[1,2,3]/.*/14'))].fine_amt.sum()"
   ]
  },
  {
   "cell_type": "code",
   "execution_count": 38,
   "metadata": {},
   "outputs": [],
   "source": [
    "df['2014 Q2'] = texas_fines[(texas_fines['pnlty_date'].str.contains('^[4,5,6]/.*/14'))]['fine_amt'].sum()"
   ]
  },
  {
   "cell_type": "code",
   "execution_count": 39,
   "metadata": {},
   "outputs": [],
   "source": [
    "df['2014 Q3'] = texas_fines[(texas_fines['pnlty_date'].str.contains('^[7,8,9]/.*/14'))]['fine_amt'].sum()"
   ]
  },
  {
   "cell_type": "code",
   "execution_count": 40,
   "metadata": {},
   "outputs": [
    {
     "name": "stderr",
     "output_type": "stream",
     "text": [
      "/Users/elenamlutz/.pyenv/versions/3.7.1/lib/python3.7/site-packages/ipykernel_launcher.py:1: UserWarning: This pattern has match groups. To actually get the groups, use str.extract.\n",
      "  \"\"\"Entry point for launching an IPython kernel.\n"
     ]
    }
   ],
   "source": [
    "df['2014 Q4'] = texas_fines[(texas_fines['pnlty_date'].str.contains('^(10)/.*/14'))]['fine_amt'].sum() + texas_fines[(texas_fines['pnlty_date'].str.contains('^(11)/.*/14'))]['fine_amt'].sum() + texas_fines[(texas_fines['pnlty_date'].str.contains('^(12)/.*/14'))]['fine_amt'].sum()"
   ]
  },
  {
   "cell_type": "code",
   "execution_count": 41,
   "metadata": {},
   "outputs": [],
   "source": [
    "df['2015 Q1'] = texas_fines[(texas_fines['pnlty_date'].str.contains('^[1,2,3]/.*/15'))]['fine_amt'].sum()"
   ]
  },
  {
   "cell_type": "code",
   "execution_count": 42,
   "metadata": {},
   "outputs": [],
   "source": [
    "df['2015 Q2'] = texas_fines[(texas_fines['pnlty_date'].str.contains('^[4,5,6]/.*/15'))]['fine_amt'].sum()"
   ]
  },
  {
   "cell_type": "code",
   "execution_count": 43,
   "metadata": {},
   "outputs": [],
   "source": [
    "df['2015 Q3'] = texas_fines[(texas_fines['pnlty_date'].str.contains('^[7,8,9]/.*/15'))]['fine_amt'].sum()"
   ]
  },
  {
   "cell_type": "code",
   "execution_count": 44,
   "metadata": {},
   "outputs": [
    {
     "name": "stderr",
     "output_type": "stream",
     "text": [
      "/Users/elenamlutz/.pyenv/versions/3.7.1/lib/python3.7/site-packages/ipykernel_launcher.py:1: UserWarning: This pattern has match groups. To actually get the groups, use str.extract.\n",
      "  \"\"\"Entry point for launching an IPython kernel.\n"
     ]
    }
   ],
   "source": [
    "df['2015 Q4'] = texas_fines[(texas_fines['pnlty_date'].str.contains('^(10)/.*/15'))]['fine_amt'].sum() + texas_fines[(texas_fines['pnlty_date'].str.contains('^(11)/.*/15'))]['fine_amt'].sum() + texas_fines[(texas_fines['pnlty_date'].str.contains('^(12)/.*/15'))]['fine_amt'].sum()"
   ]
  },
  {
   "cell_type": "code",
   "execution_count": 45,
   "metadata": {},
   "outputs": [],
   "source": [
    "df['2016 Q1'] = texas_fines[(texas_fines['pnlty_date'].str.contains('^[1,2,3]/.*/16'))]['fine_amt'].sum()"
   ]
  },
  {
   "cell_type": "code",
   "execution_count": 46,
   "metadata": {},
   "outputs": [],
   "source": [
    "df['2016 Q2'] = texas_fines[(texas_fines['pnlty_date'].str.contains('^[4,5,6]/.*/16'))]['fine_amt'].sum()"
   ]
  },
  {
   "cell_type": "code",
   "execution_count": 47,
   "metadata": {},
   "outputs": [],
   "source": [
    "df['2016 Q3'] = texas_fines[(texas_fines['pnlty_date'].str.contains('^[7,8,9]/.*/16'))]['fine_amt'].sum()"
   ]
  },
  {
   "cell_type": "code",
   "execution_count": 48,
   "metadata": {},
   "outputs": [
    {
     "name": "stderr",
     "output_type": "stream",
     "text": [
      "/Users/elenamlutz/.pyenv/versions/3.7.1/lib/python3.7/site-packages/ipykernel_launcher.py:1: UserWarning: This pattern has match groups. To actually get the groups, use str.extract.\n",
      "  \"\"\"Entry point for launching an IPython kernel.\n"
     ]
    }
   ],
   "source": [
    "df['2016 Q4'] = texas_fines[(texas_fines['pnlty_date'].str.contains('^(10)/.*/16'))]['fine_amt'].sum() + texas_fines[(texas_fines['pnlty_date'].str.contains('^(11)/.*/16'))]['fine_amt'].sum() + texas_fines[(texas_fines['pnlty_date'].str.contains('^(12)/.*/16'))]['fine_amt'].sum()"
   ]
  },
  {
   "cell_type": "code",
   "execution_count": 49,
   "metadata": {},
   "outputs": [],
   "source": [
    "df['2017 Q1'] = texas_fines[(texas_fines['pnlty_date'].str.contains('^[1,2,3]/.*/17'))]['fine_amt'].sum()"
   ]
  },
  {
   "cell_type": "code",
   "execution_count": 50,
   "metadata": {},
   "outputs": [],
   "source": [
    "df['2017 Q2'] = texas_fines[(texas_fines['pnlty_date'].str.contains('^[4,5,6]/.*/17'))]['fine_amt'].sum()"
   ]
  },
  {
   "cell_type": "code",
   "execution_count": 51,
   "metadata": {},
   "outputs": [],
   "source": [
    "df['2017 Q3'] = texas_fines[(texas_fines['pnlty_date'].str.contains('^[7,8,9]/.*/17'))]['fine_amt'].sum()"
   ]
  },
  {
   "cell_type": "code",
   "execution_count": 52,
   "metadata": {},
   "outputs": [
    {
     "name": "stderr",
     "output_type": "stream",
     "text": [
      "/Users/elenamlutz/.pyenv/versions/3.7.1/lib/python3.7/site-packages/ipykernel_launcher.py:1: UserWarning: This pattern has match groups. To actually get the groups, use str.extract.\n",
      "  \"\"\"Entry point for launching an IPython kernel.\n"
     ]
    }
   ],
   "source": [
    "df['2017 Q4'] = texas_fines[(texas_fines['pnlty_date'].str.contains('^(10)/.*/17'))]['fine_amt'].sum() + texas_fines[(texas_fines['pnlty_date'].str.contains('^(11)/.*/17'))]['fine_amt'].sum() + texas_fines[(texas_fines['pnlty_date'].str.contains('^(12)/.*/17'))]['fine_amt'].sum()"
   ]
  },
  {
   "cell_type": "code",
   "execution_count": 53,
   "metadata": {},
   "outputs": [],
   "source": [
    "df['2018 Q1'] = texas_fines[(texas_fines['pnlty_date'].str.contains('^[1,2,3]/.*/18'))]['fine_amt'].sum()"
   ]
  },
  {
   "cell_type": "code",
   "execution_count": 54,
   "metadata": {},
   "outputs": [],
   "source": [
    "df['2018 Q2'] = texas_fines[(texas_fines['pnlty_date'].str.contains('^[4,5,6]/.*/18'))]['fine_amt'].sum()"
   ]
  },
  {
   "cell_type": "code",
   "execution_count": 55,
   "metadata": {},
   "outputs": [],
   "source": [
    "df['2018 Q3'] = texas_fines[(texas_fines['pnlty_date'].str.contains('^[7,8,9]/.*/18'))]['fine_amt'].sum()"
   ]
  },
  {
   "cell_type": "code",
   "execution_count": 56,
   "metadata": {},
   "outputs": [
    {
     "name": "stderr",
     "output_type": "stream",
     "text": [
      "/Users/elenamlutz/.pyenv/versions/3.7.1/lib/python3.7/site-packages/ipykernel_launcher.py:1: UserWarning: This pattern has match groups. To actually get the groups, use str.extract.\n",
      "  \"\"\"Entry point for launching an IPython kernel.\n"
     ]
    }
   ],
   "source": [
    "df['2018 Q4'] = texas_fines[(texas_fines['pnlty_date'].str.contains('^(10)/.*/18'))]['fine_amt'].sum() + texas_fines[(texas_fines['pnlty_date'].str.contains('^(11)/.*/18'))]['fine_amt'].sum() + texas_fines[(texas_fines['pnlty_date'].str.contains('^(12)/.*/18'))]['fine_amt'].sum()"
   ]
  },
  {
   "cell_type": "code",
   "execution_count": 57,
   "metadata": {},
   "outputs": [],
   "source": [
    "df['2019 Q1'] = texas_fines[(texas_fines['pnlty_date'].str.contains('^[1,2,3]/.*/19'))]['fine_amt'].sum()"
   ]
  },
  {
   "cell_type": "code",
   "execution_count": 58,
   "metadata": {},
   "outputs": [
    {
     "data": {
      "text/html": [
       "<div>\n",
       "<style scoped>\n",
       "    .dataframe tbody tr th:only-of-type {\n",
       "        vertical-align: middle;\n",
       "    }\n",
       "\n",
       "    .dataframe tbody tr th {\n",
       "        vertical-align: top;\n",
       "    }\n",
       "\n",
       "    .dataframe thead th {\n",
       "        text-align: right;\n",
       "    }\n",
       "</style>\n",
       "<table border=\"1\" class=\"dataframe\">\n",
       "  <thead>\n",
       "    <tr style=\"text-align: right;\">\n",
       "      <th></th>\n",
       "      <th>2014 Q1</th>\n",
       "      <th>2014 Q2</th>\n",
       "      <th>2014 Q3</th>\n",
       "      <th>2014 Q4</th>\n",
       "      <th>2015 Q1</th>\n",
       "      <th>2015 Q2</th>\n",
       "      <th>2015 Q3</th>\n",
       "      <th>2015 Q4</th>\n",
       "      <th>2016 Q1</th>\n",
       "      <th>2016 Q2</th>\n",
       "      <th>...</th>\n",
       "      <th>2016 Q4</th>\n",
       "      <th>2017 Q1</th>\n",
       "      <th>2017 Q2</th>\n",
       "      <th>2017 Q3</th>\n",
       "      <th>2017 Q4</th>\n",
       "      <th>2018 Q1</th>\n",
       "      <th>2018 Q2</th>\n",
       "      <th>2018 Q3</th>\n",
       "      <th>2018 Q4</th>\n",
       "      <th>2019 Q1</th>\n",
       "    </tr>\n",
       "  </thead>\n",
       "  <tbody>\n",
       "    <tr>\n",
       "      <th>0</th>\n",
       "      <td>863013</td>\n",
       "      <td>1005131</td>\n",
       "      <td>603364</td>\n",
       "      <td>606628</td>\n",
       "      <td>1344473</td>\n",
       "      <td>1396415</td>\n",
       "      <td>1391959</td>\n",
       "      <td>395146</td>\n",
       "      <td>1431867</td>\n",
       "      <td>1657746</td>\n",
       "      <td>...</td>\n",
       "      <td>738357</td>\n",
       "      <td>3463691</td>\n",
       "      <td>2973784</td>\n",
       "      <td>2257091</td>\n",
       "      <td>2037198</td>\n",
       "      <td>1879890</td>\n",
       "      <td>1753428</td>\n",
       "      <td>1165449</td>\n",
       "      <td>1061677</td>\n",
       "      <td>1091788</td>\n",
       "    </tr>\n",
       "  </tbody>\n",
       "</table>\n",
       "<p>1 rows × 21 columns</p>\n",
       "</div>"
      ],
      "text/plain": [
       "   2014 Q1  2014 Q2  2014 Q3  2014 Q4  2015 Q1  2015 Q2  2015 Q3  2015 Q4  \\\n",
       "0   863013  1005131   603364   606628  1344473  1396415  1391959   395146   \n",
       "\n",
       "   2016 Q1  2016 Q2  ...  2016 Q4  2017 Q1  2017 Q2  2017 Q3  2017 Q4  \\\n",
       "0  1431867  1657746  ...   738357  3463691  2973784  2257091  2037198   \n",
       "\n",
       "   2018 Q1  2018 Q2  2018 Q3  2018 Q4  2019 Q1  \n",
       "0  1879890  1753428  1165449  1061677  1091788  \n",
       "\n",
       "[1 rows x 21 columns]"
      ]
     },
     "execution_count": 58,
     "metadata": {},
     "output_type": "execute_result"
    }
   ],
   "source": [
    "df.head()"
   ]
  },
  {
   "cell_type": "code",
   "execution_count": 59,
   "metadata": {},
   "outputs": [],
   "source": [
    "df = df.stack()"
   ]
  },
  {
   "cell_type": "code",
   "execution_count": 60,
   "metadata": {},
   "outputs": [],
   "source": [
    "df=df.reset_index()"
   ]
  },
  {
   "cell_type": "code",
   "execution_count": 61,
   "metadata": {},
   "outputs": [],
   "source": [
    "df=df.drop(['level_0'], axis=1)"
   ]
  },
  {
   "cell_type": "code",
   "execution_count": 62,
   "metadata": {},
   "outputs": [],
   "source": [
    "df = df.rename(columns={'level_1': 'Quarter',\n",
    "                        0: 'Total Fines'\n",
    "                       })"
   ]
  },
  {
   "cell_type": "code",
   "execution_count": 63,
   "metadata": {},
   "outputs": [
    {
     "data": {
      "text/html": [
       "<div>\n",
       "<style scoped>\n",
       "    .dataframe tbody tr th:only-of-type {\n",
       "        vertical-align: middle;\n",
       "    }\n",
       "\n",
       "    .dataframe tbody tr th {\n",
       "        vertical-align: top;\n",
       "    }\n",
       "\n",
       "    .dataframe thead th {\n",
       "        text-align: right;\n",
       "    }\n",
       "</style>\n",
       "<table border=\"1\" class=\"dataframe\">\n",
       "  <thead>\n",
       "    <tr style=\"text-align: right;\">\n",
       "      <th></th>\n",
       "      <th>Quarter</th>\n",
       "      <th>Total Fines</th>\n",
       "    </tr>\n",
       "  </thead>\n",
       "  <tbody>\n",
       "    <tr>\n",
       "      <th>0</th>\n",
       "      <td>2014 Q1</td>\n",
       "      <td>863013</td>\n",
       "    </tr>\n",
       "    <tr>\n",
       "      <th>1</th>\n",
       "      <td>2014 Q2</td>\n",
       "      <td>1005131</td>\n",
       "    </tr>\n",
       "    <tr>\n",
       "      <th>2</th>\n",
       "      <td>2014 Q3</td>\n",
       "      <td>603364</td>\n",
       "    </tr>\n",
       "    <tr>\n",
       "      <th>3</th>\n",
       "      <td>2014 Q4</td>\n",
       "      <td>606628</td>\n",
       "    </tr>\n",
       "    <tr>\n",
       "      <th>4</th>\n",
       "      <td>2015 Q1</td>\n",
       "      <td>1344473</td>\n",
       "    </tr>\n",
       "  </tbody>\n",
       "</table>\n",
       "</div>"
      ],
      "text/plain": [
       "   Quarter  Total Fines\n",
       "0  2014 Q1       863013\n",
       "1  2014 Q2      1005131\n",
       "2  2014 Q3       603364\n",
       "3  2014 Q4       606628\n",
       "4  2015 Q1      1344473"
      ]
     },
     "execution_count": 63,
     "metadata": {},
     "output_type": "execute_result"
    }
   ],
   "source": [
    "df.head()"
   ]
  },
  {
   "cell_type": "code",
   "execution_count": 64,
   "metadata": {},
   "outputs": [
    {
     "data": {
      "image/png": "[encoded data removed]",
      "text/plain": [
       "<Figure size 720x288 with 1 Axes>"
      ]
     },
     "metadata": {
      "needs_background": "light"
     },
     "output_type": "display_data"
    }
   ],
   "source": [
    "df.plot(x='Quarter',\n",
    "        y=['Total Fines'],\n",
    "        color='red',\n",
    "        kind='bar',\n",
    "        figsize=(10, 4),\n",
    "        width=0.7,\n",
    "        title='Nursing Home Fines For Health and Safety Violations')\n",
    "\n",
    "plt.savefig('nursinghomes2.pdf')"
   ]
  },
  {
   "cell_type": "markdown",
   "metadata": {},
   "source": [
    "# Find facilities with highest number of complaints"
   ]
  },
  {
   "cell_type": "code",
   "execution_count": 71,
   "metadata": {},
   "outputs": [
    {
     "data": {
      "text/html": [
       "<div>\n",
       "<style scoped>\n",
       "    .dataframe tbody tr th:only-of-type {\n",
       "        vertical-align: middle;\n",
       "    }\n",
       "\n",
       "    .dataframe tbody tr th {\n",
       "        vertical-align: top;\n",
       "    }\n",
       "\n",
       "    .dataframe thead th {\n",
       "        text-align: right;\n",
       "    }\n",
       "</style>\n",
       "<table border=\"1\" class=\"dataframe\">\n",
       "  <thead>\n",
       "    <tr style=\"text-align: right;\">\n",
       "      <th></th>\n",
       "      <th>facility_name</th>\n",
       "      <th>facility_id</th>\n",
       "      <th>address</th>\n",
       "      <th>city</th>\n",
       "      <th>state</th>\n",
       "      <th>zip</th>\n",
       "      <th>inspection_date</th>\n",
       "      <th>deficiency_tag</th>\n",
       "      <th>scope_severity</th>\n",
       "      <th>complaint</th>\n",
       "      <th>standard</th>\n",
       "      <th>eventid</th>\n",
       "      <th>inspection_text</th>\n",
       "    </tr>\n",
       "  </thead>\n",
       "  <tbody>\n",
       "    <tr>\n",
       "      <th>17739</th>\n",
       "      <td>PHP THE OAKS AT BEAUMONT</td>\n",
       "      <td>455001</td>\n",
       "      <td>4195 MILAM ST</td>\n",
       "      <td>BEAUMONT</td>\n",
       "      <td>TX</td>\n",
       "      <td>77707</td>\n",
       "      <td>12/08/2016</td>\n",
       "      <td>441</td>\n",
       "      <td>E</td>\n",
       "      <td>1</td>\n",
       "      <td>0</td>\n",
       "      <td>51U811</td>\n",
       "      <td>&gt;&lt;BR/&gt;Based on observation, interview, and rec...</td>\n",
       "    </tr>\n",
       "    <tr>\n",
       "      <th>17740</th>\n",
       "      <td>PHP THE OAKS AT BEAUMONT</td>\n",
       "      <td>455001</td>\n",
       "      <td>4195 MILAM ST</td>\n",
       "      <td>BEAUMONT</td>\n",
       "      <td>TX</td>\n",
       "      <td>77707</td>\n",
       "      <td>12/08/2016</td>\n",
       "      <td>498</td>\n",
       "      <td>E</td>\n",
       "      <td>1</td>\n",
       "      <td>0</td>\n",
       "      <td>51U811</td>\n",
       "      <td>**NOTE- TERMS IN BRACKETS HAVE BEEN EDITED TO ...</td>\n",
       "    </tr>\n",
       "    <tr>\n",
       "      <th>17741</th>\n",
       "      <td>PHP THE OAKS AT BEAUMONT</td>\n",
       "      <td>455001</td>\n",
       "      <td>4195 MILAM ST</td>\n",
       "      <td>BEAUMONT</td>\n",
       "      <td>TX</td>\n",
       "      <td>77707</td>\n",
       "      <td>04/26/2017</td>\n",
       "      <td>224</td>\n",
       "      <td>E</td>\n",
       "      <td>1</td>\n",
       "      <td>1</td>\n",
       "      <td>DHMS11</td>\n",
       "      <td>**NOTE- TERMS IN BRACKETS HAVE BEEN EDITED TO ...</td>\n",
       "    </tr>\n",
       "    <tr>\n",
       "      <th>17742</th>\n",
       "      <td>PHP THE OAKS AT BEAUMONT</td>\n",
       "      <td>455001</td>\n",
       "      <td>4195 MILAM ST</td>\n",
       "      <td>BEAUMONT</td>\n",
       "      <td>TX</td>\n",
       "      <td>77707</td>\n",
       "      <td>04/26/2017</td>\n",
       "      <td>226</td>\n",
       "      <td>E</td>\n",
       "      <td>1</td>\n",
       "      <td>1</td>\n",
       "      <td>DHMS11</td>\n",
       "      <td>**NOTE- TERMS IN BRACKETS HAVE BEEN EDITED TO ...</td>\n",
       "    </tr>\n",
       "    <tr>\n",
       "      <th>17743</th>\n",
       "      <td>PHP THE OAKS AT BEAUMONT</td>\n",
       "      <td>455001</td>\n",
       "      <td>4195 MILAM ST</td>\n",
       "      <td>BEAUMONT</td>\n",
       "      <td>TX</td>\n",
       "      <td>77707</td>\n",
       "      <td>04/26/2017</td>\n",
       "      <td>248</td>\n",
       "      <td>E</td>\n",
       "      <td>0</td>\n",
       "      <td>1</td>\n",
       "      <td>DHMS11</td>\n",
       "      <td>**NOTE- TERMS IN BRACKETS HAVE BEEN EDITED TO ...</td>\n",
       "    </tr>\n",
       "  </tbody>\n",
       "</table>\n",
       "</div>"
      ],
      "text/plain": [
       "                  facility_name facility_id        address      city state  \\\n",
       "17739  PHP THE OAKS AT BEAUMONT      455001  4195 MILAM ST  BEAUMONT    TX   \n",
       "17740  PHP THE OAKS AT BEAUMONT      455001  4195 MILAM ST  BEAUMONT    TX   \n",
       "17741  PHP THE OAKS AT BEAUMONT      455001  4195 MILAM ST  BEAUMONT    TX   \n",
       "17742  PHP THE OAKS AT BEAUMONT      455001  4195 MILAM ST  BEAUMONT    TX   \n",
       "17743  PHP THE OAKS AT BEAUMONT      455001  4195 MILAM ST  BEAUMONT    TX   \n",
       "\n",
       "         zip inspection_date  deficiency_tag scope_severity  complaint  \\\n",
       "17739  77707      12/08/2016             441              E          1   \n",
       "17740  77707      12/08/2016             498              E          1   \n",
       "17741  77707      04/26/2017             224              E          1   \n",
       "17742  77707      04/26/2017             226              E          1   \n",
       "17743  77707      04/26/2017             248              E          0   \n",
       "\n",
       "       standard eventid                                    inspection_text  \n",
       "17739         0  51U811  ><BR/>Based on observation, interview, and rec...  \n",
       "17740         0  51U811  **NOTE- TERMS IN BRACKETS HAVE BEEN EDITED TO ...  \n",
       "17741         1  DHMS11  **NOTE- TERMS IN BRACKETS HAVE BEEN EDITED TO ...  \n",
       "17742         1  DHMS11  **NOTE- TERMS IN BRACKETS HAVE BEEN EDITED TO ...  \n",
       "17743         1  DHMS11  **NOTE- TERMS IN BRACKETS HAVE BEEN EDITED TO ...  "
      ]
     },
     "execution_count": 71,
     "metadata": {},
     "output_type": "execute_result"
    }
   ],
   "source": [
    "texas_deficiencies.head()"
   ]
  },
  {
   "cell_type": "code",
   "execution_count": 72,
   "metadata": {},
   "outputs": [
    {
     "name": "stderr",
     "output_type": "stream",
     "text": [
      "/Users/elenamlutz/.pyenv/versions/3.7.1/lib/python3.7/site-packages/ipykernel_launcher.py:1: SettingWithCopyWarning: \n",
      "A value is trying to be set on a copy of a slice from a DataFrame.\n",
      "Try using .loc[row_indexer,col_indexer] = value instead\n",
      "\n",
      "See the caveats in the documentation: http://pandas.pydata.org/pandas-docs/stable/indexing.html#indexing-view-versus-copy\n",
      "  \"\"\"Entry point for launching an IPython kernel.\n"
     ]
    }
   ],
   "source": [
    "texas_deficiencies['complaint'] = texas_deficiencies.complaint.replace({1: 'yes', 0: 'no'})"
   ]
  },
  {
   "cell_type": "code",
   "execution_count": 73,
   "metadata": {},
   "outputs": [],
   "source": [
    "texas_complaints = texas_deficiencies[(texas_deficiencies['complaint']=='yes')]"
   ]
  },
  {
   "cell_type": "code",
   "execution_count": 74,
   "metadata": {},
   "outputs": [],
   "source": [
    "texas_complaints = pd.DataFrame(texas_complaints.facility_name.value_counts().head(15))"
   ]
  },
  {
   "cell_type": "code",
   "execution_count": 75,
   "metadata": {},
   "outputs": [],
   "source": [
    "texas_complaints=texas_complaints.reset_index()"
   ]
  },
  {
   "cell_type": "code",
   "execution_count": 76,
   "metadata": {},
   "outputs": [
    {
     "data": {
      "text/html": [
       "<div>\n",
       "<style scoped>\n",
       "    .dataframe tbody tr th:only-of-type {\n",
       "        vertical-align: middle;\n",
       "    }\n",
       "\n",
       "    .dataframe tbody tr th {\n",
       "        vertical-align: top;\n",
       "    }\n",
       "\n",
       "    .dataframe thead th {\n",
       "        text-align: right;\n",
       "    }\n",
       "</style>\n",
       "<table border=\"1\" class=\"dataframe\">\n",
       "  <thead>\n",
       "    <tr style=\"text-align: right;\">\n",
       "      <th></th>\n",
       "      <th>provname</th>\n",
       "      <th>complaints</th>\n",
       "    </tr>\n",
       "  </thead>\n",
       "  <tbody>\n",
       "    <tr>\n",
       "      <th>0</th>\n",
       "      <td>KENNEDY HEALTH &amp; REHAB</td>\n",
       "      <td>52</td>\n",
       "    </tr>\n",
       "    <tr>\n",
       "      <th>1</th>\n",
       "      <td>THE WESTBURY PLACE</td>\n",
       "      <td>50</td>\n",
       "    </tr>\n",
       "    <tr>\n",
       "      <th>2</th>\n",
       "      <td>BRIARCLIFF NURSING AND REHABILITATION CENTER</td>\n",
       "      <td>48</td>\n",
       "    </tr>\n",
       "    <tr>\n",
       "      <th>3</th>\n",
       "      <td>OAK PARK NURSING AND REHABILITATION CENTER</td>\n",
       "      <td>46</td>\n",
       "    </tr>\n",
       "    <tr>\n",
       "      <th>4</th>\n",
       "      <td>CHELSEA GARDENS</td>\n",
       "      <td>46</td>\n",
       "    </tr>\n",
       "  </tbody>\n",
       "</table>\n",
       "</div>"
      ],
      "text/plain": [
       "                                       provname  complaints\n",
       "0                        KENNEDY HEALTH & REHAB          52\n",
       "1                            THE WESTBURY PLACE          50\n",
       "2  BRIARCLIFF NURSING AND REHABILITATION CENTER          48\n",
       "3    OAK PARK NURSING AND REHABILITATION CENTER          46\n",
       "4                               CHELSEA GARDENS          46"
      ]
     },
     "execution_count": 76,
     "metadata": {},
     "output_type": "execute_result"
    }
   ],
   "source": [
    "texas_complaints=texas_complaints.rename(columns={'index': 'provname',\n",
    "                                                  'facility_name': 'complaints'})\n",
    "texas_complaints.head()"
   ]
  },
  {
   "cell_type": "code",
   "execution_count": 77,
   "metadata": {},
   "outputs": [],
   "source": [
    "texas_complaints['provname'] = texas_complaints['provname'].str.strip()"
   ]
  },
  {
   "cell_type": "code",
   "execution_count": 78,
   "metadata": {},
   "outputs": [
    {
     "data": {
      "text/html": [
       "<div>\n",
       "<style scoped>\n",
       "    .dataframe tbody tr th:only-of-type {\n",
       "        vertical-align: middle;\n",
       "    }\n",
       "\n",
       "    .dataframe tbody tr th {\n",
       "        vertical-align: top;\n",
       "    }\n",
       "\n",
       "    .dataframe thead th {\n",
       "        text-align: right;\n",
       "    }\n",
       "</style>\n",
       "<table border=\"1\" class=\"dataframe\">\n",
       "  <thead>\n",
       "    <tr style=\"text-align: right;\">\n",
       "      <th></th>\n",
       "      <th>provnum</th>\n",
       "      <th>provname</th>\n",
       "      <th>address</th>\n",
       "      <th>city</th>\n",
       "      <th>zip</th>\n",
       "      <th>pnlty_date</th>\n",
       "      <th>pnlty_type</th>\n",
       "      <th>fine_amt</th>\n",
       "      <th>Unnamed: 8</th>\n",
       "      <th>Unnamed: 9</th>\n",
       "    </tr>\n",
       "  </thead>\n",
       "  <tbody>\n",
       "    <tr>\n",
       "      <th>0</th>\n",
       "      <td>455497</td>\n",
       "      <td>CREEKSIDE TERRACE REHABILITATION</td>\n",
       "      <td>1555 POWELL AVENUE</td>\n",
       "      <td>BELTON</td>\n",
       "      <td>76513</td>\n",
       "      <td>1/2/15</td>\n",
       "      <td>Fine</td>\n",
       "      <td>5525</td>\n",
       "      <td>NaN</td>\n",
       "      <td>NaN</td>\n",
       "    </tr>\n",
       "    <tr>\n",
       "      <th>1</th>\n",
       "      <td>675056</td>\n",
       "      <td>STANTON NURSING AND REHABILITATION LP</td>\n",
       "      <td>1100 W BROADWAY</td>\n",
       "      <td>STANTON</td>\n",
       "      <td>79782</td>\n",
       "      <td>1/8/15</td>\n",
       "      <td>Fine</td>\n",
       "      <td>7670</td>\n",
       "      <td>NaN</td>\n",
       "      <td>NaN</td>\n",
       "    </tr>\n",
       "    <tr>\n",
       "      <th>2</th>\n",
       "      <td>455678</td>\n",
       "      <td>SUMMER MEADOWS</td>\n",
       "      <td>301 HOLLYBROOK DR</td>\n",
       "      <td>LONGVIEW</td>\n",
       "      <td>75605</td>\n",
       "      <td>1/15/15</td>\n",
       "      <td>Fine</td>\n",
       "      <td>1268</td>\n",
       "      <td>NaN</td>\n",
       "      <td>NaN</td>\n",
       "    </tr>\n",
       "    <tr>\n",
       "      <th>3</th>\n",
       "      <td>675501</td>\n",
       "      <td>HERITAGE OAKS WEST RETIREMENT VILLAGE</td>\n",
       "      <td>3300 W 2ND AVE</td>\n",
       "      <td>CORSICANA</td>\n",
       "      <td>75110</td>\n",
       "      <td>1/15/15</td>\n",
       "      <td>Fine</td>\n",
       "      <td>1300</td>\n",
       "      <td>NaN</td>\n",
       "      <td>NaN</td>\n",
       "    </tr>\n",
       "    <tr>\n",
       "      <th>4</th>\n",
       "      <td>675793</td>\n",
       "      <td>BROOKHOLLOW HEIGHTS TRANSITIONAL CARE CENTER</td>\n",
       "      <td>1737 N LOOP W</td>\n",
       "      <td>HOUSTON</td>\n",
       "      <td>77008</td>\n",
       "      <td>1/16/15</td>\n",
       "      <td>Fine</td>\n",
       "      <td>239655</td>\n",
       "      <td>NaN</td>\n",
       "      <td>NaN</td>\n",
       "    </tr>\n",
       "  </tbody>\n",
       "</table>\n",
       "</div>"
      ],
      "text/plain": [
       "   provnum                                      provname             address  \\\n",
       "0   455497              CREEKSIDE TERRACE REHABILITATION  1555 POWELL AVENUE   \n",
       "1   675056         STANTON NURSING AND REHABILITATION LP     1100 W BROADWAY   \n",
       "2   455678                                SUMMER MEADOWS   301 HOLLYBROOK DR   \n",
       "3   675501         HERITAGE OAKS WEST RETIREMENT VILLAGE      3300 W 2ND AVE   \n",
       "4   675793  BROOKHOLLOW HEIGHTS TRANSITIONAL CARE CENTER       1737 N LOOP W   \n",
       "\n",
       "        city    zip pnlty_date pnlty_type  fine_amt  Unnamed: 8  Unnamed: 9  \n",
       "0     BELTON  76513     1/2/15       Fine      5525         NaN         NaN  \n",
       "1    STANTON  79782     1/8/15       Fine      7670         NaN         NaN  \n",
       "2   LONGVIEW  75605    1/15/15       Fine      1268         NaN         NaN  \n",
       "3  CORSICANA  75110    1/15/15       Fine      1300         NaN         NaN  \n",
       "4    HOUSTON  77008    1/16/15       Fine    239655         NaN         NaN  "
      ]
     },
     "execution_count": 78,
     "metadata": {},
     "output_type": "execute_result"
    }
   ],
   "source": [
    "texas_fines.head()"
   ]
  },
  {
   "cell_type": "markdown",
   "metadata": {},
   "source": [
    "# Find facilities with most fines issued against them"
   ]
  },
  {
   "cell_type": "code",
   "execution_count": 79,
   "metadata": {},
   "outputs": [],
   "source": [
    "most_fines = pd.DataFrame(texas_fines.groupby('provname').fine_amt.sum().sort_values(ascending=False).head(15))"
   ]
  },
  {
   "cell_type": "code",
   "execution_count": 80,
   "metadata": {},
   "outputs": [],
   "source": [
    "most_fines = most_fines.reset_index()"
   ]
  },
  {
   "cell_type": "code",
   "execution_count": 81,
   "metadata": {},
   "outputs": [
    {
     "data": {
      "text/html": [
       "<div>\n",
       "<style scoped>\n",
       "    .dataframe tbody tr th:only-of-type {\n",
       "        vertical-align: middle;\n",
       "    }\n",
       "\n",
       "    .dataframe tbody tr th {\n",
       "        vertical-align: top;\n",
       "    }\n",
       "\n",
       "    .dataframe thead th {\n",
       "        text-align: right;\n",
       "    }\n",
       "</style>\n",
       "<table border=\"1\" class=\"dataframe\">\n",
       "  <thead>\n",
       "    <tr style=\"text-align: right;\">\n",
       "      <th></th>\n",
       "      <th>provname</th>\n",
       "      <th>fine_amt</th>\n",
       "    </tr>\n",
       "  </thead>\n",
       "  <tbody>\n",
       "    <tr>\n",
       "      <th>0</th>\n",
       "      <td>EMERALD HILLS REHABILITATION AND HEALTHCARE CE...</td>\n",
       "      <td>1254213</td>\n",
       "    </tr>\n",
       "    <tr>\n",
       "      <th>1</th>\n",
       "      <td>NORTH POINTE NURSING AND REHABILITATION LP</td>\n",
       "      <td>470615</td>\n",
       "    </tr>\n",
       "    <tr>\n",
       "      <th>2</th>\n",
       "      <td>REGAL HEALTHCARE RESIDENCE</td>\n",
       "      <td>453128</td>\n",
       "    </tr>\n",
       "    <tr>\n",
       "      <th>3</th>\n",
       "      <td>COPPERAS HOLLOW NURSING &amp; REHABILITATION CENTER</td>\n",
       "      <td>430564</td>\n",
       "    </tr>\n",
       "    <tr>\n",
       "      <th>4</th>\n",
       "      <td>RIDGEVIEW REHABILITATION AND SKILLED NURSING</td>\n",
       "      <td>392217</td>\n",
       "    </tr>\n",
       "  </tbody>\n",
       "</table>\n",
       "</div>"
      ],
      "text/plain": [
       "                                            provname  fine_amt\n",
       "0  EMERALD HILLS REHABILITATION AND HEALTHCARE CE...   1254213\n",
       "1         NORTH POINTE NURSING AND REHABILITATION LP    470615\n",
       "2                         REGAL HEALTHCARE RESIDENCE    453128\n",
       "3    COPPERAS HOLLOW NURSING & REHABILITATION CENTER    430564\n",
       "4       RIDGEVIEW REHABILITATION AND SKILLED NURSING    392217"
      ]
     },
     "execution_count": 81,
     "metadata": {},
     "output_type": "execute_result"
    }
   ],
   "source": [
    "most_fines.head()"
   ]
  },
  {
   "cell_type": "code",
   "execution_count": 82,
   "metadata": {},
   "outputs": [],
   "source": [
    "most_fines['provname'] = most_fines['provname'].str.strip()"
   ]
  },
  {
   "cell_type": "code",
   "execution_count": 83,
   "metadata": {},
   "outputs": [
    {
     "data": {
      "image/png": "[encoded data removed]",
      "text/plain": [
       "<Figure size 360x288 with 1 Axes>"
      ]
     },
     "metadata": {
      "needs_background": "light"
     },
     "output_type": "display_data"
    }
   ],
   "source": [
    "ax2 = most_fines.sort_values(by='fine_amt').plot(x='provname',\n",
    "                      y='fine_amt',\n",
    "                      kind='barh',\n",
    "                      figsize=(5, 4),\n",
    "                      width=0.7)\n",
    "ax2.set_xticks([100000, 200000, 300000, 400000, 500000])\n",
    "ax2.set_xlim(100000,600000)\n",
    "\n",
    "plt.savefig('nursinghomes5.pdf')"
   ]
  },
  {
   "cell_type": "code",
   "execution_count": 84,
   "metadata": {},
   "outputs": [
    {
     "data": {
      "image/png": "[encoded data removed]",
      "text/plain": [
       "<Figure size 360x288 with 1 Axes>"
      ]
     },
     "metadata": {
      "needs_background": "light"
     },
     "output_type": "display_data"
    }
   ],
   "source": [
    "ax = texas_complaints.sort_values(by='complaints').plot(x='provname',\n",
    "                      y='complaints',\n",
    "                      kind='barh',\n",
    "                      figsize=(5, 4),\n",
    "                      width=0.7)\n",
    "ax.set_xticks([30, 35, 40, 45, 50])\n",
    "ax.set_xlim(30,55)\n",
    "\n",
    "plt.savefig('nursinghomes4.pdf')"
   ]
  },
  {
   "cell_type": "markdown",
   "metadata": {},
   "source": [
    "# Scatterplot of fines"
   ]
  },
  {
   "cell_type": "code",
   "execution_count": 103,
   "metadata": {},
   "outputs": [
    {
     "name": "stdout",
     "output_type": "stream",
     "text": [
      "Barak_Obama_web-resized.jpg         nursinghomes2.pdf\r\n",
      "Nursing Homes in Texas.ipynb        nursinghomes3.pdf\r\n",
      "deficienciescount.csv               nursinghomes4.pdf\r\n",
      "deficienciescount1.csv              nursinghomes5.pdf\r\n",
      "inspection reports per facility.csv penaltiestest.xlsx\r\n",
      "nursing homes penalties.csv         trumpface.png\r\n",
      "nursinghomes1.pdf\r\n"
     ]
    }
   ],
   "source": [
    "!ls"
   ]
  },
  {
   "cell_type": "code",
   "execution_count": 104,
   "metadata": {},
   "outputs": [],
   "source": [
    "df3 = pd.read_excel(\"penaltiestest.xlsx\")"
   ]
  },
  {
   "cell_type": "code",
   "execution_count": 107,
   "metadata": {},
   "outputs": [
    {
     "data": {
      "text/html": [
       "<div>\n",
       "<style scoped>\n",
       "    .dataframe tbody tr th:only-of-type {\n",
       "        vertical-align: middle;\n",
       "    }\n",
       "\n",
       "    .dataframe tbody tr th {\n",
       "        vertical-align: top;\n",
       "    }\n",
       "\n",
       "    .dataframe thead th {\n",
       "        text-align: right;\n",
       "    }\n",
       "</style>\n",
       "<table border=\"1\" class=\"dataframe\">\n",
       "  <thead>\n",
       "    <tr style=\"text-align: right;\">\n",
       "      <th></th>\n",
       "      <th>provnum</th>\n",
       "      <th>provname</th>\n",
       "      <th>address</th>\n",
       "      <th>city</th>\n",
       "      <th>zip</th>\n",
       "      <th>scatter</th>\n",
       "      <th>pnlty_date</th>\n",
       "      <th>pnlty_type</th>\n",
       "      <th>fine_amt</th>\n",
       "    </tr>\n",
       "  </thead>\n",
       "  <tbody>\n",
       "    <tr>\n",
       "      <th>0</th>\n",
       "      <td>675210</td>\n",
       "      <td>HERITAGE HOUSE NURSING AND REHABILITATION</td>\n",
       "      <td>407 N COLLEGE ST</td>\n",
       "      <td>ROSEBUD</td>\n",
       "      <td>76570</td>\n",
       "      <td>1</td>\n",
       "      <td>2014-01-10</td>\n",
       "      <td>Fine</td>\n",
       "      <td>1744</td>\n",
       "    </tr>\n",
       "    <tr>\n",
       "      <th>1</th>\n",
       "      <td>676220</td>\n",
       "      <td>GRANITE MESA HEALTH CENTER</td>\n",
       "      <td>1401 MAX COPELAND DR</td>\n",
       "      <td>MARBLE FALLS</td>\n",
       "      <td>78654</td>\n",
       "      <td>2</td>\n",
       "      <td>2014-01-10</td>\n",
       "      <td>Fine</td>\n",
       "      <td>3500</td>\n",
       "    </tr>\n",
       "    <tr>\n",
       "      <th>2</th>\n",
       "      <td>676220</td>\n",
       "      <td>GRANITE MESA HEALTH CENTER</td>\n",
       "      <td>1401 MAX COPELAND DR</td>\n",
       "      <td>MARBLE FALLS</td>\n",
       "      <td>78654</td>\n",
       "      <td>3</td>\n",
       "      <td>2014-01-10</td>\n",
       "      <td>Fine</td>\n",
       "      <td>2000</td>\n",
       "    </tr>\n",
       "    <tr>\n",
       "      <th>3</th>\n",
       "      <td>676052</td>\n",
       "      <td>IMMANUELS HEALTHCARE</td>\n",
       "      <td>4515 VILLAGE CREEK RD</td>\n",
       "      <td>FORT WORTH</td>\n",
       "      <td>76119</td>\n",
       "      <td>4</td>\n",
       "      <td>2014-01-11</td>\n",
       "      <td>Fine</td>\n",
       "      <td>115011</td>\n",
       "    </tr>\n",
       "    <tr>\n",
       "      <th>4</th>\n",
       "      <td>675939</td>\n",
       "      <td>VINTAGE HEALTH CARE CENTER</td>\n",
       "      <td>205 N BONNIE BRAE</td>\n",
       "      <td>DENTON</td>\n",
       "      <td>76201</td>\n",
       "      <td>5</td>\n",
       "      <td>2014-01-15</td>\n",
       "      <td>Fine</td>\n",
       "      <td>1300</td>\n",
       "    </tr>\n",
       "  </tbody>\n",
       "</table>\n",
       "</div>"
      ],
      "text/plain": [
       "   provnum                                   provname                address  \\\n",
       "0   675210  HERITAGE HOUSE NURSING AND REHABILITATION       407 N COLLEGE ST   \n",
       "1   676220                 GRANITE MESA HEALTH CENTER   1401 MAX COPELAND DR   \n",
       "2   676220                 GRANITE MESA HEALTH CENTER   1401 MAX COPELAND DR   \n",
       "3   676052                       IMMANUELS HEALTHCARE  4515 VILLAGE CREEK RD   \n",
       "4   675939                 VINTAGE HEALTH CARE CENTER      205 N BONNIE BRAE   \n",
       "\n",
       "           city    zip  scatter pnlty_date pnlty_type  fine_amt  \n",
       "0       ROSEBUD  76570        1 2014-01-10       Fine      1744  \n",
       "1  MARBLE FALLS  78654        2 2014-01-10       Fine      3500  \n",
       "2  MARBLE FALLS  78654        3 2014-01-10       Fine      2000  \n",
       "3    FORT WORTH  76119        4 2014-01-11       Fine    115011  \n",
       "4        DENTON  76201        5 2014-01-15       Fine      1300  "
      ]
     },
     "execution_count": 107,
     "metadata": {},
     "output_type": "execute_result"
    }
   ],
   "source": [
    "df3.head()"
   ]
  },
  {
   "cell_type": "code",
   "execution_count": 113,
   "metadata": {},
   "outputs": [],
   "source": [
    "df3['pnlty_date'] = df3.pnlty_date.astype(str)"
   ]
  },
  {
   "cell_type": "code",
   "execution_count": 128,
   "metadata": {},
   "outputs": [],
   "source": [
    "df3['pnlty_date'] = df3.pnlty_date.str.replace('-\\d\\d-\\d\\d', '', regex=True)"
   ]
  },
  {
   "cell_type": "code",
   "execution_count": 131,
   "metadata": {},
   "outputs": [],
   "source": [
    "df3['pnlty_date'] = df3.pnlty_date.astype(int)"
   ]
  },
  {
   "cell_type": "code",
   "execution_count": 249,
   "metadata": {},
   "outputs": [
    {
     "data": {
      "text/plain": [
       "<matplotlib.collections.PathCollection at 0x1c050e278>"
      ]
     },
     "execution_count": 249,
     "metadata": {},
     "output_type": "execute_result"
    },
    {
     "data": {
      "image/png": "[encoded data removed]",
      "text/plain": [
       "<Figure size 720x1800 with 1 Axes>"
      ]
     },
     "metadata": {
      "needs_background": "light"
     },
     "output_type": "display_data"
    }
   ],
   "source": [
    "colors = ['#084594', '#2171b5', '#4292c6', '#6baed6', '#9ecae1', '#c6dbef']\n",
    "fig, ax = plt.subplots(figsize=(10, 25))\n",
    "chart = sns.scatterplot(x=\"scatter\", \n",
    "                        y=\"fine_amt\", \n",
    "                        size=\"fine_amt\",\n",
    "                        palette=colors,\n",
    "                        sizes=(140, 400),\n",
    "                        hue = 'pnlty_date',\n",
    "                        alpha=0.8,\n",
    "                        data=df3,\n",
    "                        ax=ax)\n",
    "plt.scatter(x=1023, y=27701, color='r')\n",
    "plt.scatter(x=660, y=27701, color='r')\n",
    "plt.scatter(x=823, y=123404, color='r')\n",
    "plt.scatter(x=875, y=93053, color='r')\n",
    "plt.scatter(x=486, y=73933, color='r')\n",
    "plt.scatter(x=656, y= 72508 , color='r')\n",
    "plt.scatter(x=696, y=55646, color='r')\n",
    "plt.scatter(x=702, y=53057, color='r')\n",
    "plt.scatter(x=696, y=55646, color='r')\n",
    "plt.scatter(x=533, y= 48815 , color='r')\n",
    "plt.scatter(x=641, y=39550, color='r')\n",
    "plt.scatter(x=608, y=43692, color='r')\n",
    "plt.scatter(x=1023, y=27701, color='r')\n",
    "plt.scatter(x=736, y= 16139 , color='r')\n",
    "plt.scatter(x=1026, y=13328, color='r')\n",
    "plt.scatter(x=604, y=13244, color='r')\n",
    "plt.scatter(x=552, y=6500, color='r')\n",
    "plt.scatter(x=501, y=5525, color='r')\n",
    "plt.scatter(x=670, y=371287, color='r')\n",
    "\n",
    "\n",
    "# plt.savefig(\"scatterplot.pdf\")"
   ]
  },
  {
   "cell_type": "code",
   "execution_count": 250,
   "metadata": {},
   "outputs": [
    {
     "data": {
      "text/html": [
       "<div>\n",
       "<style scoped>\n",
       "    .dataframe tbody tr th:only-of-type {\n",
       "        vertical-align: middle;\n",
       "    }\n",
       "\n",
       "    .dataframe tbody tr th {\n",
       "        vertical-align: top;\n",
       "    }\n",
       "\n",
       "    .dataframe thead th {\n",
       "        text-align: right;\n",
       "    }\n",
       "</style>\n",
       "<table border=\"1\" class=\"dataframe\">\n",
       "  <thead>\n",
       "    <tr style=\"text-align: right;\">\n",
       "      <th></th>\n",
       "      <th>facility_name</th>\n",
       "      <th>facility_id</th>\n",
       "      <th>address</th>\n",
       "      <th>city</th>\n",
       "      <th>state</th>\n",
       "      <th>zip</th>\n",
       "      <th>inspection_date</th>\n",
       "      <th>deficiency_tag</th>\n",
       "      <th>scope_severity</th>\n",
       "      <th>complaint</th>\n",
       "      <th>standard</th>\n",
       "      <th>eventid</th>\n",
       "      <th>inspection_text</th>\n",
       "    </tr>\n",
       "  </thead>\n",
       "  <tbody>\n",
       "    <tr>\n",
       "      <th>17739</th>\n",
       "      <td>PHP THE OAKS AT BEAUMONT</td>\n",
       "      <td>455001</td>\n",
       "      <td>4195 MILAM ST</td>\n",
       "      <td>BEAUMONT</td>\n",
       "      <td>TX</td>\n",
       "      <td>77707</td>\n",
       "      <td>12/08/2016</td>\n",
       "      <td>441</td>\n",
       "      <td>E</td>\n",
       "      <td>yes</td>\n",
       "      <td>0</td>\n",
       "      <td>51U811</td>\n",
       "      <td>&gt;&lt;BR/&gt;Based on observation, interview, and rec...</td>\n",
       "    </tr>\n",
       "    <tr>\n",
       "      <th>17740</th>\n",
       "      <td>PHP THE OAKS AT BEAUMONT</td>\n",
       "      <td>455001</td>\n",
       "      <td>4195 MILAM ST</td>\n",
       "      <td>BEAUMONT</td>\n",
       "      <td>TX</td>\n",
       "      <td>77707</td>\n",
       "      <td>12/08/2016</td>\n",
       "      <td>498</td>\n",
       "      <td>E</td>\n",
       "      <td>yes</td>\n",
       "      <td>0</td>\n",
       "      <td>51U811</td>\n",
       "      <td>**NOTE- TERMS IN BRACKETS HAVE BEEN EDITED TO ...</td>\n",
       "    </tr>\n",
       "    <tr>\n",
       "      <th>17741</th>\n",
       "      <td>PHP THE OAKS AT BEAUMONT</td>\n",
       "      <td>455001</td>\n",
       "      <td>4195 MILAM ST</td>\n",
       "      <td>BEAUMONT</td>\n",
       "      <td>TX</td>\n",
       "      <td>77707</td>\n",
       "      <td>04/26/2017</td>\n",
       "      <td>224</td>\n",
       "      <td>E</td>\n",
       "      <td>yes</td>\n",
       "      <td>1</td>\n",
       "      <td>DHMS11</td>\n",
       "      <td>**NOTE- TERMS IN BRACKETS HAVE BEEN EDITED TO ...</td>\n",
       "    </tr>\n",
       "    <tr>\n",
       "      <th>17742</th>\n",
       "      <td>PHP THE OAKS AT BEAUMONT</td>\n",
       "      <td>455001</td>\n",
       "      <td>4195 MILAM ST</td>\n",
       "      <td>BEAUMONT</td>\n",
       "      <td>TX</td>\n",
       "      <td>77707</td>\n",
       "      <td>04/26/2017</td>\n",
       "      <td>226</td>\n",
       "      <td>E</td>\n",
       "      <td>yes</td>\n",
       "      <td>1</td>\n",
       "      <td>DHMS11</td>\n",
       "      <td>**NOTE- TERMS IN BRACKETS HAVE BEEN EDITED TO ...</td>\n",
       "    </tr>\n",
       "    <tr>\n",
       "      <th>17743</th>\n",
       "      <td>PHP THE OAKS AT BEAUMONT</td>\n",
       "      <td>455001</td>\n",
       "      <td>4195 MILAM ST</td>\n",
       "      <td>BEAUMONT</td>\n",
       "      <td>TX</td>\n",
       "      <td>77707</td>\n",
       "      <td>04/26/2017</td>\n",
       "      <td>248</td>\n",
       "      <td>E</td>\n",
       "      <td>no</td>\n",
       "      <td>1</td>\n",
       "      <td>DHMS11</td>\n",
       "      <td>**NOTE- TERMS IN BRACKETS HAVE BEEN EDITED TO ...</td>\n",
       "    </tr>\n",
       "  </tbody>\n",
       "</table>\n",
       "</div>"
      ],
      "text/plain": [
       "                  facility_name facility_id        address      city state  \\\n",
       "17739  PHP THE OAKS AT BEAUMONT      455001  4195 MILAM ST  BEAUMONT    TX   \n",
       "17740  PHP THE OAKS AT BEAUMONT      455001  4195 MILAM ST  BEAUMONT    TX   \n",
       "17741  PHP THE OAKS AT BEAUMONT      455001  4195 MILAM ST  BEAUMONT    TX   \n",
       "17742  PHP THE OAKS AT BEAUMONT      455001  4195 MILAM ST  BEAUMONT    TX   \n",
       "17743  PHP THE OAKS AT BEAUMONT      455001  4195 MILAM ST  BEAUMONT    TX   \n",
       "\n",
       "         zip inspection_date  deficiency_tag scope_severity complaint  \\\n",
       "17739  77707      12/08/2016             441              E       yes   \n",
       "17740  77707      12/08/2016             498              E       yes   \n",
       "17741  77707      04/26/2017             224              E       yes   \n",
       "17742  77707      04/26/2017             226              E       yes   \n",
       "17743  77707      04/26/2017             248              E        no   \n",
       "\n",
       "       standard eventid                                    inspection_text  \n",
       "17739         0  51U811  ><BR/>Based on observation, interview, and rec...  \n",
       "17740         0  51U811  **NOTE- TERMS IN BRACKETS HAVE BEEN EDITED TO ...  \n",
       "17741         1  DHMS11  **NOTE- TERMS IN BRACKETS HAVE BEEN EDITED TO ...  \n",
       "17742         1  DHMS11  **NOTE- TERMS IN BRACKETS HAVE BEEN EDITED TO ...  \n",
       "17743         1  DHMS11  **NOTE- TERMS IN BRACKETS HAVE BEEN EDITED TO ...  "
      ]
     },
     "execution_count": 250,
     "metadata": {},
     "output_type": "execute_result"
    }
   ],
   "source": [
    "texas_deficiencies.head()"
   ]
  },
  {
   "cell_type": "code",
   "execution_count": null,
   "metadata": {},
   "outputs": [],
   "source": [
    "texas_deficiencies.loc[texas_deficiencies['city'].isin(some_values)]"
   ]
  },
  {
   "cell_type": "code",
   "execution_count": 66,
   "metadata": {},
   "outputs": [
    {
     "data": {
      "text/plain": [
       "city\n",
       "SAN ANTONIO         2119\n",
       "HOUSTON             1778\n",
       "FORT WORTH           624\n",
       "CORPUS CHRISTI       601\n",
       "EL PASO              556\n",
       "DALLAS               531\n",
       "LUBBOCK              429\n",
       "AUSTIN               420\n",
       "TYLER                338\n",
       "MCALLEN              338\n",
       "BROWNSVILLE          337\n",
       "LONGVIEW             288\n",
       "AMARILLO             243\n",
       "HARLINGEN            232\n",
       "TEXARKANA            232\n",
       "BEAUMONT             224\n",
       "ABILENE              205\n",
       "WACO                 203\n",
       "LAREDO               194\n",
       "NEW BRAUNFELS        190\n",
       "KATY                 181\n",
       "TEXAS CITY           181\n",
       "MISSOURI CITY        176\n",
       "PASADENA             173\n",
       "BOERNE               170\n",
       "MIDLAND              169\n",
       "ARLINGTON            162\n",
       "EDINBURG             155\n",
       "BAYTOWN              152\n",
       "PARIS                150\n",
       "                    ... \n",
       "NOCONA                 8\n",
       "HUNTINGTON             8\n",
       "DRIPPING SPRINGS       8\n",
       "FORNEY                 8\n",
       "FRANKLIN               8\n",
       "ALVARADO               8\n",
       "HICO                   7\n",
       "BRONTE                 7\n",
       "HENRIETTA              7\n",
       "BURNET                 7\n",
       "CLIFTON                7\n",
       "ROWLETT                6\n",
       "GROVETON               6\n",
       "SEYMOUR                6\n",
       "ASPERMONT              6\n",
       "WOODWAY                6\n",
       "LA MARQUE              5\n",
       "FRIONA                 5\n",
       "WEST                   5\n",
       "BRECKENRIDGE           5\n",
       "RISING STAR            5\n",
       "CROWELL                4\n",
       "ITALY                  4\n",
       "EDEN                   4\n",
       "GRANDVIEW              4\n",
       "BERTRAM                4\n",
       "ALAMO                  3\n",
       "TEAGUE                 3\n",
       "MARLIN                 2\n",
       "MABANK                 1\n",
       "Name: scope_severity, Length: 446, dtype: int64"
      ]
     },
     "execution_count": 66,
     "metadata": {},
     "output_type": "execute_result"
    }
   ],
   "source": [
    "texas_deficiencies.groupby(['city']).scope_severity.count().sort_values(ascending=False)"
   ]
  },
  {
   "cell_type": "markdown",
   "metadata": {},
   "source": [
    "# Map out cities with most deficiencies"
   ]
  },
  {
   "cell_type": "code",
   "execution_count": 276,
   "metadata": {},
   "outputs": [],
   "source": [
    "csvforgeocodio = pd.DataFrame(texas_deficiencies.groupby(['address', 'city', 'state', 'zip']).scope_severity.count())"
   ]
  },
  {
   "cell_type": "code",
   "execution_count": 281,
   "metadata": {},
   "outputs": [],
   "source": [
    "csvforgeocodio = csvforgeocodio.reset_index()"
   ]
  },
  {
   "cell_type": "code",
   "execution_count": 283,
   "metadata": {},
   "outputs": [
    {
     "data": {
      "text/html": [
       "<div>\n",
       "<style scoped>\n",
       "    .dataframe tbody tr th:only-of-type {\n",
       "        vertical-align: middle;\n",
       "    }\n",
       "\n",
       "    .dataframe tbody tr th {\n",
       "        vertical-align: top;\n",
       "    }\n",
       "\n",
       "    .dataframe thead th {\n",
       "        text-align: right;\n",
       "    }\n",
       "</style>\n",
       "<table border=\"1\" class=\"dataframe\">\n",
       "  <thead>\n",
       "    <tr style=\"text-align: right;\">\n",
       "      <th></th>\n",
       "      <th>address</th>\n",
       "      <th>city</th>\n",
       "      <th>state</th>\n",
       "      <th>zip</th>\n",
       "      <th>scope_severity</th>\n",
       "    </tr>\n",
       "  </thead>\n",
       "  <tbody>\n",
       "    <tr>\n",
       "      <th>0</th>\n",
       "      <td>100 GAY ST</td>\n",
       "      <td>MENARD</td>\n",
       "      <td>TX</td>\n",
       "      <td>76859</td>\n",
       "      <td>11</td>\n",
       "    </tr>\n",
       "    <tr>\n",
       "      <th>1</th>\n",
       "      <td>100 HERMANN DR</td>\n",
       "      <td>DEL RIO</td>\n",
       "      <td>TX</td>\n",
       "      <td>78840</td>\n",
       "      <td>18</td>\n",
       "    </tr>\n",
       "    <tr>\n",
       "      <th>2</th>\n",
       "      <td>100 N E LOOP 304</td>\n",
       "      <td>CROCKETT</td>\n",
       "      <td>TX</td>\n",
       "      <td>75835</td>\n",
       "      <td>11</td>\n",
       "    </tr>\n",
       "    <tr>\n",
       "      <th>3</th>\n",
       "      <td>1000 AVE J</td>\n",
       "      <td>LAMPASAS</td>\n",
       "      <td>TX</td>\n",
       "      <td>76550</td>\n",
       "      <td>51</td>\n",
       "    </tr>\n",
       "    <tr>\n",
       "      <th>4</th>\n",
       "      <td>1000 E MAIN ST</td>\n",
       "      <td>ROUND ROCK</td>\n",
       "      <td>TX</td>\n",
       "      <td>78664</td>\n",
       "      <td>9</td>\n",
       "    </tr>\n",
       "  </tbody>\n",
       "</table>\n",
       "</div>"
      ],
      "text/plain": [
       "            address        city state    zip  scope_severity\n",
       "0        100 GAY ST      MENARD    TX  76859              11\n",
       "1    100 HERMANN DR     DEL RIO    TX  78840              18\n",
       "2  100 N E LOOP 304    CROCKETT    TX  75835              11\n",
       "3        1000 AVE J    LAMPASAS    TX  76550              51\n",
       "4    1000 E MAIN ST  ROUND ROCK    TX  78664               9"
      ]
     },
     "execution_count": 283,
     "metadata": {},
     "output_type": "execute_result"
    }
   ],
   "source": [
    "csvforgeocodio.head()"
   ]
  },
  {
   "cell_type": "code",
   "execution_count": 284,
   "metadata": {},
   "outputs": [],
   "source": [
    "csvforgeocodio.to_csv('csvforgeocodio.csv', index=False)"
   ]
  },
  {
   "cell_type": "code",
   "execution_count": null,
   "metadata": {},
   "outputs": [],
   "source": []
  }
 ],
 "metadata": {
  "kernelspec": {
   "display_name": "Python 3",
   "language": "python",
   "name": "python3"
  },
  "language_info": {
   "codemirror_mode": {
    "name": "ipython",
    "version": 3
   },
   "file_extension": ".py",
   "mimetype": "text/x-python",
   "name": "python",
   "nbconvert_exporter": "python",
   "pygments_lexer": "ipython3",
   "version": "3.7.1"
  }
 },
 "nbformat": 4,
 "nbformat_minor": 2
}
